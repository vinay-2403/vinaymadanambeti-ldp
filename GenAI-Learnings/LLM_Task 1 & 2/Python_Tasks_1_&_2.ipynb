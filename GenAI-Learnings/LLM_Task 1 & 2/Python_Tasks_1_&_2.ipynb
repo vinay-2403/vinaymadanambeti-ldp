{
  "nbformat": 4,
  "nbformat_minor": 0,
  "metadata": {
    "colab": {
      "provenance": []
    },
    "kernelspec": {
      "name": "python3",
      "display_name": "Python 3"
    },
    "language_info": {
      "name": "python"
    }
  },
  "cells": [
    {
      "cell_type": "markdown",
      "source": [
        "# Problem 1"
      ],
      "metadata": {
        "id": "vAL-Wnsr2ANS"
      }
    },
    {
      "cell_type": "markdown",
      "source": [
        "\"Task - 1 : You are given a list of integers where each number appears twice, except for one unique number that appears only once.\n",
        "Example :\n",
        "Input: [4, 1, 2, 1, 2]  \n",
        "Output: 4  \n",
        "\""
      ],
      "metadata": {
        "id": "O6f1LMpd2MOh"
      }
    },
    {
      "cell_type": "code",
      "execution_count": null,
      "metadata": {
        "colab": {
          "base_uri": "https://localhost:8080/"
        },
        "id": "e-t9WKZ39nXs",
        "outputId": "b676de80-0cf2-41e0-d7e9-80fc547f4515"
      },
      "outputs": [
        {
          "output_type": "stream",
          "name": "stdout",
          "text": [
            "4\n"
          ]
        }
      ],
      "source": [
        "def find_unique_number(nums):\n",
        "    unique = 0\n",
        "    for num in nums:\n",
        "        unique ^= num\n",
        "    return unique\n",
        "\n",
        "nums = [4, 1, 2, 1, 2]\n",
        "print(find_unique_number(nums))\n"
      ]
    },
    {
      "cell_type": "markdown",
      "source": [
        "# Problem 2"
      ],
      "metadata": {
        "id": "W6pptkWR2IFQ"
      }
    },
    {
      "cell_type": "markdown",
      "source": [
        "\"Task - 2 : Create a class BankAccount that allows a user to deposit, withdraw, and check the balance. Implement encapsulation so that the balance cannot be accessed directly but only through methods.\n",
        "\n",
        "Requirements:\n",
        "\n",
        "deposit(amount): Adds amount to the balance.\n",
        "withdraw(amount): Deducts amount from the balance if sufficient funds exist.\n",
        "get_balance(): Returns the current balance.\n",
        "The balance should be private and should not be directly accessible.\n",
        "\n",
        "Example usage :\n",
        "\n",
        "acc = BankAccount(1000)  \n",
        "acc.deposit(500)  \n",
        "acc.withdraw(300)  \n",
        "print(acc.get_balance())  # Output: 1200  \n",
        "\n",
        "print(acc.__balance)  # This should raise an AttributeError  \n",
        "\n",
        "\""
      ],
      "metadata": {
        "id": "hWjyznCO2TIe"
      }
    },
    {
      "cell_type": "code",
      "source": [
        "class BankAccount:\n",
        "    def __init__(self, initial_balance):\n",
        "        self.__balance = initial_balance\n",
        "\n",
        "    def deposit(self, amount):\n",
        "        if amount > 0:\n",
        "            self.__balance += amount\n",
        "            print(f\"Deposited: {amount}\")\n",
        "        else:\n",
        "            print(\"Deposit amount must be positive.\")\n",
        "\n",
        "    def withdraw(self, amount):\n",
        "        if amount > self.__balance:\n",
        "            print(\"Insufficient funds!\")\n",
        "        elif amount <= 0:\n",
        "            print(\"Withdrawal amount must be positive.\")\n",
        "        else:\n",
        "            self.__balance -= amount\n",
        "            print(f\"Withdrawn: {amount}\")\n",
        "\n",
        "    def get_balance(self):\n",
        "        return self.__balance\n",
        "\n",
        "acc = BankAccount(1000)\n",
        "acc.deposit(500)\n",
        "acc.withdraw(300)\n",
        "print(acc.get_balance())\n",
        "\n",
        "\n",
        "try:\n",
        "    print(acc.__balance)\n",
        "except AttributeError as e:\n",
        "    print(\"Error:\", e)\n"
      ],
      "metadata": {
        "colab": {
          "base_uri": "https://localhost:8080/"
        },
        "id": "b_N0ze-e95Dr",
        "outputId": "47328633-643b-45a7-e725-9fb45a4dd476"
      },
      "execution_count": null,
      "outputs": [
        {
          "output_type": "stream",
          "name": "stdout",
          "text": [
            "Deposited: 500\n",
            "Withdrawn: 300\n",
            "1200\n",
            "Error: 'BankAccount' object has no attribute '__balance'\n"
          ]
        }
      ]
    }
  ]
}