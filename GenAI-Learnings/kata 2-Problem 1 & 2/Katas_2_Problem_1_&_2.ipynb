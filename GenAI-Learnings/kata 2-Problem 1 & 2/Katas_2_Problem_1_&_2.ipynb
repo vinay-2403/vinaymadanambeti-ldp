{
  "nbformat": 4,
  "nbformat_minor": 0,
  "metadata": {
    "colab": {
      "provenance": []
    },
    "kernelspec": {
      "name": "python3",
      "display_name": "Python 3"
    },
    "language_info": {
      "name": "python"
    }
  },
  "cells": [
    {
      "cell_type": "markdown",
      "source": [
        "# Problem 1"
      ],
      "metadata": {
        "id": "rIcgR6DNTCQN"
      }
    },
    {
      "cell_type": "markdown",
      "source": [
        "**Generating Song Lyrics with NumPy**\n",
        "\n",
        "**Scenario:** You are working on a RAG-based application that generates creative text formats like song lyrics. You have a dataset of existing popular song lyrics stored in a CSV file. Your task is to use NumPy to:\n",
        "\n",
        "1. Load the song lyrics data from the CSV file.\n",
        "2. Preprocess the data by converting all lyrics to lowercase and removing punctuation.\n",
        "3. Use NumPy to create a random sample of 10 song lyrics from the dataset.\n",
        "\n",
        "**Dataset :**\n",
        "\n",
        "[**Lyrics Sample Dataset**](https://docs.google.com/spreadsheets/d/1GmUxCf1m-I94DsVMUaOsTikvh9QqFZpjmLvtNI61ylA/edit?usp=sharing)"
      ],
      "metadata": {
        "id": "XPcg30j329-e"
      }
    },
    {
      "cell_type": "code",
      "source": [
        "import pandas as pd\n",
        "\n",
        "df = pd.read_csv(\"lyrics_dataset.csv\")\n",
        "print(df.head())"
      ],
      "metadata": {
        "colab": {
          "base_uri": "https://localhost:8080/"
        },
        "id": "DEygHtShPH5j",
        "outputId": "39a38039-93d6-41c9-ffe3-50d13d205f2c"
      },
      "execution_count": null,
      "outputs": [
        {
          "output_type": "stream",
          "name": "stdout",
          "text": [
            "                                          Lyrics\n",
            "0     I wanna dance with somebody (who loves me)\n",
            "1       You're the one that I want, oohoo, honey\n",
            "2                           Baby, baby, baby, oh\n",
            "3  A sky full of stars and a heart full of scars\n",
            "4             Can't stop the feeling! So excited\n"
          ]
        }
      ]
    },
    {
      "cell_type": "code",
      "source": [
        "import string\n",
        "df[\"Lyrics\"] = df[\"Lyrics\"].str.lower()\n",
        "df[\"Lyrics\"] = df[\"Lyrics\"].str.replace(f\"[{string.punctuation}]\", \"\", regex=True)\n",
        "\n",
        "print(df.head())"
      ],
      "metadata": {
        "colab": {
          "base_uri": "https://localhost:8080/"
        },
        "id": "3lWcKEoD7C4V",
        "outputId": "0b35a145-accd-43dc-d8e7-d64b20ce3e13"
      },
      "execution_count": null,
      "outputs": [
        {
          "output_type": "stream",
          "name": "stdout",
          "text": [
            "                                          Lyrics\n",
            "0       i wanna dance with somebody who loves me\n",
            "1          youre the one that i want oohoo honey\n",
            "2                              baby baby baby oh\n",
            "3  a sky full of stars and a heart full of scars\n",
            "4               cant stop the feeling so excited\n"
          ]
        }
      ]
    },
    {
      "cell_type": "code",
      "source": [
        "import numpy as np\n",
        "\n",
        "np.random.seed(42)\n",
        "sample_lyrics = np.random.choice(df[\"Lyrics\"], size=10, replace=False)\n",
        "\n",
        "for i, lyric in enumerate(sample_lyrics, 1):\n",
        "    print(f\"{i}. {lyric}\")\n"
      ],
      "metadata": {
        "colab": {
          "base_uri": "https://localhost:8080/"
        },
        "id": "hdigqJ4kMyaR",
        "outputId": "189f3483-85ff-41d8-f96c-000a96e9f959"
      },
      "execution_count": null,
      "outputs": [
        {
          "output_type": "stream",
          "name": "stdout",
          "text": [
            "1. i believe i can fly\n",
            "2. its gettin hot in here so take off all your clothes\n",
            "3. a little bit of monica in my life\n",
            "4. a thousand miles from nowhere\n",
            "5. bohemian rhapsody is the best song ever\n",
            "6. livin on a prayer\n",
            "7. my heart will go on\n",
            "8. i wanna dance with somebody who loves me\n",
            "9. cant buy me love\n",
            "10. mmm mmm mmm mmm\n"
          ]
        }
      ]
    },
    {
      "cell_type": "markdown",
      "source": [
        "# Problem 2"
      ],
      "metadata": {
        "id": "vLfxx3cSTL2f"
      }
    },
    {
      "cell_type": "markdown",
      "source": [
        "**Scenario**: You are building a RAG-based system to analyze customer reviews and classify them as positive or negative. You have a dataset of customer reviews stored in a CSV file, along with their sentiment labels (positive or negative). Here's your task:\n",
        "\n",
        "1. Load the customer review data from the CSV file using Pandas.\n",
        "2. Preprocess the review text by converting it to lowercase and removing punctuation.\n",
        "3. Calculate the average word count for positive and negative reviews.\n",
        "4. Visualize the distribution of word count for positive and negative reviews using Matplotlib\n",
        "5. Plot a positive review and observe it should be near the positive sentiments clusters\n",
        "\n",
        "**Dataset:**\n",
        "\n",
        "[**Customer Review**](https://docs.google.com/spreadsheets/d/1C0YjGQ-SONdXS-fqmrNe3Uus5xS3e91izsZFxZN5doA/edit?usp=sharing)"
      ],
      "metadata": {
        "id": "NWnpfgTT3HAs"
      }
    },
    {
      "cell_type": "code",
      "source": [
        "import pandas as pd\n",
        "\n",
        "df = pd.read_csv(\"customer_review.csv\")\n",
        "print(df.head())\n"
      ],
      "metadata": {
        "colab": {
          "base_uri": "https://localhost:8080/"
        },
        "id": "s6vgWMjAPjBY",
        "outputId": "ede3537e-5e5c-48fc-b72e-3fa5961cf4cb"
      },
      "execution_count": null,
      "outputs": [
        {
          "output_type": "stream",
          "name": "stdout",
          "text": [
            "                                              Review Sentiment\n",
            "0  \"This product is amazing! It works exactly as ...  positive\n",
            "1  \"This product is a complete waste of money. It...  negative\n",
            "2  \"The product is okay, but it could be better. ...   neutral\n",
            "3  \"I love this product! It's so cute and stylish...  positive\n",
            "4  \"The product arrived broken. I am very unhappy...  negative\n"
          ]
        }
      ]
    },
    {
      "cell_type": "code",
      "source": [
        "import string\n",
        "\n",
        "df[\"Review\"] = df[\"Review\"].str.lower()\n",
        "df[\"Review\"] = df[\"Review\"].str.replace(f\"[{string.punctuation}]\", \"\", regex=True)\n",
        "\n",
        "print(df.head())"
      ],
      "metadata": {
        "colab": {
          "base_uri": "https://localhost:8080/"
        },
        "id": "h0TAiEJLQy6R",
        "outputId": "aca6423d-c514-4f7b-c311-b8ceeeb2446d"
      },
      "execution_count": null,
      "outputs": [
        {
          "output_type": "stream",
          "name": "stdout",
          "text": [
            "                                              Review Sentiment\n",
            "0  this product is amazing it works exactly as ad...  positive\n",
            "1  this product is a complete waste of money it d...  negative\n",
            "2  the product is okay but it could be better the...   neutral\n",
            "3  i love this product its so cute and stylish iv...  positive\n",
            "4  the product arrived broken i am very unhappy w...  negative\n"
          ]
        }
      ]
    },
    {
      "cell_type": "code",
      "source": [
        "df[\"word_count\"] = df[\"Review\"].apply(lambda x: len(x.split()))\n",
        "\n",
        "\n",
        "avg_word_count = df.groupby(\"Sentiment\")[\"word_count\"].mean()\n",
        "print(\"\\nAverage Word Count by Sentiment:\\n\", avg_word_count)"
      ],
      "metadata": {
        "colab": {
          "base_uri": "https://localhost:8080/"
        },
        "id": "GW2WMdLMRm4k",
        "outputId": "2134b214-2f27-49b9-fd8c-7a68ec9246b1"
      },
      "execution_count": null,
      "outputs": [
        {
          "output_type": "stream",
          "name": "stdout",
          "text": [
            "\n",
            "Average Word Count by Sentiment:\n",
            " Sentiment\n",
            "negative    16.125000\n",
            "neutral     18.285714\n",
            "positive    16.000000\n",
            "Name: word_count, dtype: float64\n"
          ]
        }
      ]
    },
    {
      "cell_type": "code",
      "source": [
        "df"
      ],
      "metadata": {
        "colab": {
          "base_uri": "https://localhost:8080/",
          "height": 770
        },
        "id": "zUKbdSJs59L9",
        "outputId": "63dde3ec-21be-406e-c303-32956b223bcb"
      },
      "execution_count": null,
      "outputs": [
        {
          "output_type": "execute_result",
          "data": {
            "text/plain": [
              "                                               Review Sentiment  word_count\n",
              "0   this product is amazing it works exactly as ad...  positive          24\n",
              "1   this product is a complete waste of money it d...  negative          21\n",
              "2   the product is okay but it could be better the...   neutral          30\n",
              "3   i love this product its so cute and stylish iv...  positive          16\n",
              "4   the product arrived broken i am very unhappy w...  negative          22\n",
              "5   the product is good for the price its not the ...   neutral          18\n",
              "6   this product is exactly what i was looking for...  positive          20\n",
              "7   the product is very difficult to use i wouldnt...  negative          13\n",
              "8   im not sure what to think of this product yet ...   neutral          27\n",
              "9   this product is a lifesaver it has helped me s...  positive          16\n",
              "10  the product is a disappointment it doesnt live...  negative          12\n",
              "11  the product is good quality but its a bit over...   neutral          10\n",
              "12  i would definitely buy this product again its ...  positive          14\n",
              "13  the product is terrible i would never recommen...  negative          11\n",
              "14  the product is just okay its not bad but its n...   neutral          13\n",
              "15  this product is amazing i cant believe how wel...  positive          11\n",
              "16  the product is a complete waste of time it doe...  negative          16\n",
              "17  the product is easy to use and works well im h...  positive          14\n",
              "18  the product is not very userfriendly the instr...  negative          20\n",
              "19  i would recommend this product to others but w...   neutral          11\n",
              "20  this product is a great addition to my home i ...  positive          13\n",
              "21  the product is cheaply made and doesnt seem li...  negative          14\n",
              "22  the product is a good value for the money its ...   neutral          19"
            ],
            "text/html": [
              "\n",
              "  <div id=\"df-04115b84-82f4-421e-a83b-e00700a42a4a\" class=\"colab-df-container\">\n",
              "    <div>\n",
              "<style scoped>\n",
              "    .dataframe tbody tr th:only-of-type {\n",
              "        vertical-align: middle;\n",
              "    }\n",
              "\n",
              "    .dataframe tbody tr th {\n",
              "        vertical-align: top;\n",
              "    }\n",
              "\n",
              "    .dataframe thead th {\n",
              "        text-align: right;\n",
              "    }\n",
              "</style>\n",
              "<table border=\"1\" class=\"dataframe\">\n",
              "  <thead>\n",
              "    <tr style=\"text-align: right;\">\n",
              "      <th></th>\n",
              "      <th>Review</th>\n",
              "      <th>Sentiment</th>\n",
              "      <th>word_count</th>\n",
              "    </tr>\n",
              "  </thead>\n",
              "  <tbody>\n",
              "    <tr>\n",
              "      <th>0</th>\n",
              "      <td>this product is amazing it works exactly as ad...</td>\n",
              "      <td>positive</td>\n",
              "      <td>24</td>\n",
              "    </tr>\n",
              "    <tr>\n",
              "      <th>1</th>\n",
              "      <td>this product is a complete waste of money it d...</td>\n",
              "      <td>negative</td>\n",
              "      <td>21</td>\n",
              "    </tr>\n",
              "    <tr>\n",
              "      <th>2</th>\n",
              "      <td>the product is okay but it could be better the...</td>\n",
              "      <td>neutral</td>\n",
              "      <td>30</td>\n",
              "    </tr>\n",
              "    <tr>\n",
              "      <th>3</th>\n",
              "      <td>i love this product its so cute and stylish iv...</td>\n",
              "      <td>positive</td>\n",
              "      <td>16</td>\n",
              "    </tr>\n",
              "    <tr>\n",
              "      <th>4</th>\n",
              "      <td>the product arrived broken i am very unhappy w...</td>\n",
              "      <td>negative</td>\n",
              "      <td>22</td>\n",
              "    </tr>\n",
              "    <tr>\n",
              "      <th>5</th>\n",
              "      <td>the product is good for the price its not the ...</td>\n",
              "      <td>neutral</td>\n",
              "      <td>18</td>\n",
              "    </tr>\n",
              "    <tr>\n",
              "      <th>6</th>\n",
              "      <td>this product is exactly what i was looking for...</td>\n",
              "      <td>positive</td>\n",
              "      <td>20</td>\n",
              "    </tr>\n",
              "    <tr>\n",
              "      <th>7</th>\n",
              "      <td>the product is very difficult to use i wouldnt...</td>\n",
              "      <td>negative</td>\n",
              "      <td>13</td>\n",
              "    </tr>\n",
              "    <tr>\n",
              "      <th>8</th>\n",
              "      <td>im not sure what to think of this product yet ...</td>\n",
              "      <td>neutral</td>\n",
              "      <td>27</td>\n",
              "    </tr>\n",
              "    <tr>\n",
              "      <th>9</th>\n",
              "      <td>this product is a lifesaver it has helped me s...</td>\n",
              "      <td>positive</td>\n",
              "      <td>16</td>\n",
              "    </tr>\n",
              "    <tr>\n",
              "      <th>10</th>\n",
              "      <td>the product is a disappointment it doesnt live...</td>\n",
              "      <td>negative</td>\n",
              "      <td>12</td>\n",
              "    </tr>\n",
              "    <tr>\n",
              "      <th>11</th>\n",
              "      <td>the product is good quality but its a bit over...</td>\n",
              "      <td>neutral</td>\n",
              "      <td>10</td>\n",
              "    </tr>\n",
              "    <tr>\n",
              "      <th>12</th>\n",
              "      <td>i would definitely buy this product again its ...</td>\n",
              "      <td>positive</td>\n",
              "      <td>14</td>\n",
              "    </tr>\n",
              "    <tr>\n",
              "      <th>13</th>\n",
              "      <td>the product is terrible i would never recommen...</td>\n",
              "      <td>negative</td>\n",
              "      <td>11</td>\n",
              "    </tr>\n",
              "    <tr>\n",
              "      <th>14</th>\n",
              "      <td>the product is just okay its not bad but its n...</td>\n",
              "      <td>neutral</td>\n",
              "      <td>13</td>\n",
              "    </tr>\n",
              "    <tr>\n",
              "      <th>15</th>\n",
              "      <td>this product is amazing i cant believe how wel...</td>\n",
              "      <td>positive</td>\n",
              "      <td>11</td>\n",
              "    </tr>\n",
              "    <tr>\n",
              "      <th>16</th>\n",
              "      <td>the product is a complete waste of time it doe...</td>\n",
              "      <td>negative</td>\n",
              "      <td>16</td>\n",
              "    </tr>\n",
              "    <tr>\n",
              "      <th>17</th>\n",
              "      <td>the product is easy to use and works well im h...</td>\n",
              "      <td>positive</td>\n",
              "      <td>14</td>\n",
              "    </tr>\n",
              "    <tr>\n",
              "      <th>18</th>\n",
              "      <td>the product is not very userfriendly the instr...</td>\n",
              "      <td>negative</td>\n",
              "      <td>20</td>\n",
              "    </tr>\n",
              "    <tr>\n",
              "      <th>19</th>\n",
              "      <td>i would recommend this product to others but w...</td>\n",
              "      <td>neutral</td>\n",
              "      <td>11</td>\n",
              "    </tr>\n",
              "    <tr>\n",
              "      <th>20</th>\n",
              "      <td>this product is a great addition to my home i ...</td>\n",
              "      <td>positive</td>\n",
              "      <td>13</td>\n",
              "    </tr>\n",
              "    <tr>\n",
              "      <th>21</th>\n",
              "      <td>the product is cheaply made and doesnt seem li...</td>\n",
              "      <td>negative</td>\n",
              "      <td>14</td>\n",
              "    </tr>\n",
              "    <tr>\n",
              "      <th>22</th>\n",
              "      <td>the product is a good value for the money its ...</td>\n",
              "      <td>neutral</td>\n",
              "      <td>19</td>\n",
              "    </tr>\n",
              "  </tbody>\n",
              "</table>\n",
              "</div>\n",
              "    <div class=\"colab-df-buttons\">\n",
              "\n",
              "  <div class=\"colab-df-container\">\n",
              "    <button class=\"colab-df-convert\" onclick=\"convertToInteractive('df-04115b84-82f4-421e-a83b-e00700a42a4a')\"\n",
              "            title=\"Convert this dataframe to an interactive table.\"\n",
              "            style=\"display:none;\">\n",
              "\n",
              "  <svg xmlns=\"http://www.w3.org/2000/svg\" height=\"24px\" viewBox=\"0 -960 960 960\">\n",
              "    <path d=\"M120-120v-720h720v720H120Zm60-500h600v-160H180v160Zm220 220h160v-160H400v160Zm0 220h160v-160H400v160ZM180-400h160v-160H180v160Zm440 0h160v-160H620v160ZM180-180h160v-160H180v160Zm440 0h160v-160H620v160Z\"/>\n",
              "  </svg>\n",
              "    </button>\n",
              "\n",
              "  <style>\n",
              "    .colab-df-container {\n",
              "      display:flex;\n",
              "      gap: 12px;\n",
              "    }\n",
              "\n",
              "    .colab-df-convert {\n",
              "      background-color: #E8F0FE;\n",
              "      border: none;\n",
              "      border-radius: 50%;\n",
              "      cursor: pointer;\n",
              "      display: none;\n",
              "      fill: #1967D2;\n",
              "      height: 32px;\n",
              "      padding: 0 0 0 0;\n",
              "      width: 32px;\n",
              "    }\n",
              "\n",
              "    .colab-df-convert:hover {\n",
              "      background-color: #E2EBFA;\n",
              "      box-shadow: 0px 1px 2px rgba(60, 64, 67, 0.3), 0px 1px 3px 1px rgba(60, 64, 67, 0.15);\n",
              "      fill: #174EA6;\n",
              "    }\n",
              "\n",
              "    .colab-df-buttons div {\n",
              "      margin-bottom: 4px;\n",
              "    }\n",
              "\n",
              "    [theme=dark] .colab-df-convert {\n",
              "      background-color: #3B4455;\n",
              "      fill: #D2E3FC;\n",
              "    }\n",
              "\n",
              "    [theme=dark] .colab-df-convert:hover {\n",
              "      background-color: #434B5C;\n",
              "      box-shadow: 0px 1px 3px 1px rgba(0, 0, 0, 0.15);\n",
              "      filter: drop-shadow(0px 1px 2px rgba(0, 0, 0, 0.3));\n",
              "      fill: #FFFFFF;\n",
              "    }\n",
              "  </style>\n",
              "\n",
              "    <script>\n",
              "      const buttonEl =\n",
              "        document.querySelector('#df-04115b84-82f4-421e-a83b-e00700a42a4a button.colab-df-convert');\n",
              "      buttonEl.style.display =\n",
              "        google.colab.kernel.accessAllowed ? 'block' : 'none';\n",
              "\n",
              "      async function convertToInteractive(key) {\n",
              "        const element = document.querySelector('#df-04115b84-82f4-421e-a83b-e00700a42a4a');\n",
              "        const dataTable =\n",
              "          await google.colab.kernel.invokeFunction('convertToInteractive',\n",
              "                                                    [key], {});\n",
              "        if (!dataTable) return;\n",
              "\n",
              "        const docLinkHtml = 'Like what you see? Visit the ' +\n",
              "          '<a target=\"_blank\" href=https://colab.research.google.com/notebooks/data_table.ipynb>data table notebook</a>'\n",
              "          + ' to learn more about interactive tables.';\n",
              "        element.innerHTML = '';\n",
              "        dataTable['output_type'] = 'display_data';\n",
              "        await google.colab.output.renderOutput(dataTable, element);\n",
              "        const docLink = document.createElement('div');\n",
              "        docLink.innerHTML = docLinkHtml;\n",
              "        element.appendChild(docLink);\n",
              "      }\n",
              "    </script>\n",
              "  </div>\n",
              "\n",
              "\n",
              "    <div id=\"df-32f21ab0-6e2b-4b09-9967-aa4bf03fd9ed\">\n",
              "      <button class=\"colab-df-quickchart\" onclick=\"quickchart('df-32f21ab0-6e2b-4b09-9967-aa4bf03fd9ed')\"\n",
              "                title=\"Suggest charts\"\n",
              "                style=\"display:none;\">\n",
              "\n",
              "<svg xmlns=\"http://www.w3.org/2000/svg\" height=\"24px\"viewBox=\"0 0 24 24\"\n",
              "     width=\"24px\">\n",
              "    <g>\n",
              "        <path d=\"M19 3H5c-1.1 0-2 .9-2 2v14c0 1.1.9 2 2 2h14c1.1 0 2-.9 2-2V5c0-1.1-.9-2-2-2zM9 17H7v-7h2v7zm4 0h-2V7h2v10zm4 0h-2v-4h2v4z\"/>\n",
              "    </g>\n",
              "</svg>\n",
              "      </button>\n",
              "\n",
              "<style>\n",
              "  .colab-df-quickchart {\n",
              "      --bg-color: #E8F0FE;\n",
              "      --fill-color: #1967D2;\n",
              "      --hover-bg-color: #E2EBFA;\n",
              "      --hover-fill-color: #174EA6;\n",
              "      --disabled-fill-color: #AAA;\n",
              "      --disabled-bg-color: #DDD;\n",
              "  }\n",
              "\n",
              "  [theme=dark] .colab-df-quickchart {\n",
              "      --bg-color: #3B4455;\n",
              "      --fill-color: #D2E3FC;\n",
              "      --hover-bg-color: #434B5C;\n",
              "      --hover-fill-color: #FFFFFF;\n",
              "      --disabled-bg-color: #3B4455;\n",
              "      --disabled-fill-color: #666;\n",
              "  }\n",
              "\n",
              "  .colab-df-quickchart {\n",
              "    background-color: var(--bg-color);\n",
              "    border: none;\n",
              "    border-radius: 50%;\n",
              "    cursor: pointer;\n",
              "    display: none;\n",
              "    fill: var(--fill-color);\n",
              "    height: 32px;\n",
              "    padding: 0;\n",
              "    width: 32px;\n",
              "  }\n",
              "\n",
              "  .colab-df-quickchart:hover {\n",
              "    background-color: var(--hover-bg-color);\n",
              "    box-shadow: 0 1px 2px rgba(60, 64, 67, 0.3), 0 1px 3px 1px rgba(60, 64, 67, 0.15);\n",
              "    fill: var(--button-hover-fill-color);\n",
              "  }\n",
              "\n",
              "  .colab-df-quickchart-complete:disabled,\n",
              "  .colab-df-quickchart-complete:disabled:hover {\n",
              "    background-color: var(--disabled-bg-color);\n",
              "    fill: var(--disabled-fill-color);\n",
              "    box-shadow: none;\n",
              "  }\n",
              "\n",
              "  .colab-df-spinner {\n",
              "    border: 2px solid var(--fill-color);\n",
              "    border-color: transparent;\n",
              "    border-bottom-color: var(--fill-color);\n",
              "    animation:\n",
              "      spin 1s steps(1) infinite;\n",
              "  }\n",
              "\n",
              "  @keyframes spin {\n",
              "    0% {\n",
              "      border-color: transparent;\n",
              "      border-bottom-color: var(--fill-color);\n",
              "      border-left-color: var(--fill-color);\n",
              "    }\n",
              "    20% {\n",
              "      border-color: transparent;\n",
              "      border-left-color: var(--fill-color);\n",
              "      border-top-color: var(--fill-color);\n",
              "    }\n",
              "    30% {\n",
              "      border-color: transparent;\n",
              "      border-left-color: var(--fill-color);\n",
              "      border-top-color: var(--fill-color);\n",
              "      border-right-color: var(--fill-color);\n",
              "    }\n",
              "    40% {\n",
              "      border-color: transparent;\n",
              "      border-right-color: var(--fill-color);\n",
              "      border-top-color: var(--fill-color);\n",
              "    }\n",
              "    60% {\n",
              "      border-color: transparent;\n",
              "      border-right-color: var(--fill-color);\n",
              "    }\n",
              "    80% {\n",
              "      border-color: transparent;\n",
              "      border-right-color: var(--fill-color);\n",
              "      border-bottom-color: var(--fill-color);\n",
              "    }\n",
              "    90% {\n",
              "      border-color: transparent;\n",
              "      border-bottom-color: var(--fill-color);\n",
              "    }\n",
              "  }\n",
              "</style>\n",
              "\n",
              "      <script>\n",
              "        async function quickchart(key) {\n",
              "          const quickchartButtonEl =\n",
              "            document.querySelector('#' + key + ' button');\n",
              "          quickchartButtonEl.disabled = true;  // To prevent multiple clicks.\n",
              "          quickchartButtonEl.classList.add('colab-df-spinner');\n",
              "          try {\n",
              "            const charts = await google.colab.kernel.invokeFunction(\n",
              "                'suggestCharts', [key], {});\n",
              "          } catch (error) {\n",
              "            console.error('Error during call to suggestCharts:', error);\n",
              "          }\n",
              "          quickchartButtonEl.classList.remove('colab-df-spinner');\n",
              "          quickchartButtonEl.classList.add('colab-df-quickchart-complete');\n",
              "        }\n",
              "        (() => {\n",
              "          let quickchartButtonEl =\n",
              "            document.querySelector('#df-32f21ab0-6e2b-4b09-9967-aa4bf03fd9ed button');\n",
              "          quickchartButtonEl.style.display =\n",
              "            google.colab.kernel.accessAllowed ? 'block' : 'none';\n",
              "        })();\n",
              "      </script>\n",
              "    </div>\n",
              "\n",
              "  <div id=\"id_62ab278a-4f8a-4586-9079-a7ff4cb71f2a\">\n",
              "    <style>\n",
              "      .colab-df-generate {\n",
              "        background-color: #E8F0FE;\n",
              "        border: none;\n",
              "        border-radius: 50%;\n",
              "        cursor: pointer;\n",
              "        display: none;\n",
              "        fill: #1967D2;\n",
              "        height: 32px;\n",
              "        padding: 0 0 0 0;\n",
              "        width: 32px;\n",
              "      }\n",
              "\n",
              "      .colab-df-generate:hover {\n",
              "        background-color: #E2EBFA;\n",
              "        box-shadow: 0px 1px 2px rgba(60, 64, 67, 0.3), 0px 1px 3px 1px rgba(60, 64, 67, 0.15);\n",
              "        fill: #174EA6;\n",
              "      }\n",
              "\n",
              "      [theme=dark] .colab-df-generate {\n",
              "        background-color: #3B4455;\n",
              "        fill: #D2E3FC;\n",
              "      }\n",
              "\n",
              "      [theme=dark] .colab-df-generate:hover {\n",
              "        background-color: #434B5C;\n",
              "        box-shadow: 0px 1px 3px 1px rgba(0, 0, 0, 0.15);\n",
              "        filter: drop-shadow(0px 1px 2px rgba(0, 0, 0, 0.3));\n",
              "        fill: #FFFFFF;\n",
              "      }\n",
              "    </style>\n",
              "    <button class=\"colab-df-generate\" onclick=\"generateWithVariable('df')\"\n",
              "            title=\"Generate code using this dataframe.\"\n",
              "            style=\"display:none;\">\n",
              "\n",
              "  <svg xmlns=\"http://www.w3.org/2000/svg\" height=\"24px\"viewBox=\"0 0 24 24\"\n",
              "       width=\"24px\">\n",
              "    <path d=\"M7,19H8.4L18.45,9,17,7.55,7,17.6ZM5,21V16.75L18.45,3.32a2,2,0,0,1,2.83,0l1.4,1.43a1.91,1.91,0,0,1,.58,1.4,1.91,1.91,0,0,1-.58,1.4L9.25,21ZM18.45,9,17,7.55Zm-12,3A5.31,5.31,0,0,0,4.9,8.1,5.31,5.31,0,0,0,1,6.5,5.31,5.31,0,0,0,4.9,4.9,5.31,5.31,0,0,0,6.5,1,5.31,5.31,0,0,0,8.1,4.9,5.31,5.31,0,0,0,12,6.5,5.46,5.46,0,0,0,6.5,12Z\"/>\n",
              "  </svg>\n",
              "    </button>\n",
              "    <script>\n",
              "      (() => {\n",
              "      const buttonEl =\n",
              "        document.querySelector('#id_62ab278a-4f8a-4586-9079-a7ff4cb71f2a button.colab-df-generate');\n",
              "      buttonEl.style.display =\n",
              "        google.colab.kernel.accessAllowed ? 'block' : 'none';\n",
              "\n",
              "      buttonEl.onclick = () => {\n",
              "        google.colab.notebook.generateWithVariable('df');\n",
              "      }\n",
              "      })();\n",
              "    </script>\n",
              "  </div>\n",
              "\n",
              "    </div>\n",
              "  </div>\n"
            ],
            "application/vnd.google.colaboratory.intrinsic+json": {
              "type": "dataframe",
              "variable_name": "df",
              "summary": "{\n  \"name\": \"df\",\n  \"rows\": 23,\n  \"fields\": [\n    {\n      \"column\": \"Review\",\n      \"properties\": {\n        \"dtype\": \"string\",\n        \"num_unique_values\": 23,\n        \"samples\": [\n          \"this product is amazing i cant believe how well it works\",\n          \"this product is a lifesaver it has helped me so much with problem the product solves\",\n          \"this product is amazing it works exactly as advertised and has made my life so much easier i would highly recommend it to anyone\"\n        ],\n        \"semantic_type\": \"\",\n        \"description\": \"\"\n      }\n    },\n    {\n      \"column\": \"Sentiment\",\n      \"properties\": {\n        \"dtype\": \"category\",\n        \"num_unique_values\": 3,\n        \"samples\": [\n          \"positive\",\n          \"negative\",\n          \"neutral\"\n        ],\n        \"semantic_type\": \"\",\n        \"description\": \"\"\n      }\n    },\n    {\n      \"column\": \"word_count\",\n      \"properties\": {\n        \"dtype\": \"number\",\n        \"std\": 5,\n        \"min\": 10,\n        \"max\": 30,\n        \"num_unique_values\": 14,\n        \"samples\": [\n          12,\n          14,\n          24\n        ],\n        \"semantic_type\": \"\",\n        \"description\": \"\"\n      }\n    }\n  ]\n}"
            }
          },
          "metadata": {},
          "execution_count": 4
        }
      ]
    },
    {
      "cell_type": "code",
      "source": [
        "import matplotlib.pyplot as plt\n",
        "\n",
        "plt.figure(figsize=(10, 6))\n",
        "\n",
        "for sentiment, color in zip(['positive', 'negative'], ['green', 'red']):\n",
        "    subset = df[df['Sentiment'] == sentiment]\n",
        "    plt.hist(\n",
        "        subset['word_count'],\n",
        "        bins=20,\n",
        "        alpha=0.6,\n",
        "        color=color,\n",
        "        label=sentiment\n",
        "    )\n",
        "plt.title(\"Distribution of Word Counts by Sentiment\")\n",
        "plt.xlabel(\"Word Count\")\n",
        "plt.ylabel(\"Frequency\")\n",
        "plt.legend()\n",
        "plt.show()"
      ],
      "metadata": {
        "colab": {
          "base_uri": "https://localhost:8080/",
          "height": 564
        },
        "id": "etDx3yWz7KRS",
        "outputId": "ffa70171-2d4b-4479-ab29-7b35ada9c179"
      },
      "execution_count": null,
      "outputs": [
        {
          "output_type": "display_data",
          "data": {
            "text/plain": [
              "<Figure size 1000x600 with 1 Axes>"
            ],
            "image/png": "[encoded data removed]"
          },
          "metadata": {}
        }
      ]
    },
    {
      "cell_type": "code",
      "source": [
        "colors = {'positive': 'green', 'negative': 'red'}\n",
        "\n",
        "df = df[df['Sentiment'].isin(['positive', 'negative'])]\n",
        "\n",
        "plt.figure(figsize=(10, 6))\n",
        "plt.scatter(\n",
        "    df.index,\n",
        "    df['word_count'],\n",
        "    c=df['Sentiment'].map(colors),\n",
        "    alpha=0.6\n",
        ")\n",
        "\n",
        "plt.title(\"Scatter Plot of Word Count by Sentiment\")\n",
        "plt.xlabel(\"Review Index\")\n",
        "plt.ylabel(\"Word Count\")\n",
        "plt.show()\n"
      ],
      "metadata": {
        "colab": {
          "base_uri": "https://localhost:8080/",
          "height": 564
        },
        "id": "9vb4tsjCFdA1",
        "outputId": "9f94651c-1dcf-40c4-cf19-0af9b81bd33c"
      },
      "execution_count": null,
      "outputs": [
        {
          "output_type": "display_data",
          "data": {
            "text/plain": [
              "<Figure size 1000x600 with 1 Axes>"
            ],
            "image/png": "[encoded data removed]"
          },
          "metadata": {}
        }
      ]
    },
    {
      "cell_type": "code",
      "source": [
        "example_index = df[df[\"Sentiment\"]==\"positive\"].index[0]\n",
        "plt.scatter(example_index, df.loc[example_index,\"word_count\"], c=\"blue\", s=200, edgecolors=\"black\", label=\"Example Positive Review\")\n",
        "\n",
        "plt.title(\"Positive vs Negative Review Clusters\")\n",
        "plt.xlabel(\"Review Index\")\n",
        "plt.ylabel(\"Word Count\")\n",
        "plt.legend()\n",
        "plt.show()"
      ],
      "metadata": {
        "colab": {
          "base_uri": "https://localhost:8080/",
          "height": 472
        },
        "id": "zU7Q4oy-eFDf",
        "outputId": "c7f0d019-a4d8-4342-9cf1-8147be4e726b"
      },
      "execution_count": null,
      "outputs": [
        {
          "output_type": "display_data",
          "data": {
            "text/plain": [
              "<Figure size 640x480 with 1 Axes>"
            ],
            "image/png": "[encoded data removed]"
          },
          "metadata": {}
        }
      ]
    },
    {
      "cell_type": "code",
      "source": [],
      "metadata": {
        "id": "f3b4Vl8jOtBX"
      },
      "execution_count": null,
      "outputs": []
    }
  ]
}